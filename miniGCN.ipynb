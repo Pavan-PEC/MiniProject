{
 "cells": [
  {
   "cell_type": "code",
   "execution_count": 1,
   "id": "09d088dc",
   "metadata": {},
   "outputs": [],
   "source": [
    "import torch\n",
    "import dhg\n",
    "import torch.nn as nn\n",
    "import torch.nn.functional as F\n",
    "from sklearn.model_selection import train_test_split\n",
    "\n",
    "class GCNConv(nn.Module):\n",
    "    def __init__(\n",
    "        self,\n",
    "        in_channels: int,\n",
    "        out_channels: int,\n",
    "        bias: bool = True,\n",
    "        drop_rate: float = 0.5,\n",
    "    ):\n",
    "        super().__init__()\n",
    "        self.act = nn.ReLU(inplace=True)\n",
    "        self.drop = nn.Dropout(drop_rate)\n",
    "        self.theta = nn.Linear(in_channels, out_channels, bias=bias)\n",
    "\n",
    "    def forward(self, X: torch.Tensor, g: dhg.Graph) -> torch.Tensor:\n",
    "        if not isinstance(g, dhg.Graph):\n",
    "            raise TypeError(f\"Expected dhg.Graph, got {type(g)}\")  \n",
    "        X = self.theta(X)\n",
    "        X_ = g.smoothing_with_GCN(X)\n",
    "        X_ = self.drop(self.act(X_))\n",
    "        return X_\n",
    "\n",
    "class MiniGCN(torch.nn.Module):\n",
    "    def __init__(self, input_dim, hidden_dim, output_dim):\n",
    "        super(MiniGCN, self).__init__()\n",
    "        self.conv1 = GCNConv(input_dim, hidden_dim)\n",
    "        self.conv2 = GCNConv(hidden_dim, output_dim)\n",
    "\n",
    "    def forward(self, x, edge_index):\n",
    "        x = self.conv1(x, edge_index)\n",
    "        x = F.relu(x)\n",
    "        x = self.conv2(x, edge_index)\n",
    "        return x\n",
    "    "
   ]
  },
  {
   "cell_type": "code",
   "execution_count": 2,
   "id": "3bb09cd6",
   "metadata": {},
   "outputs": [],
   "source": [
    "def train(model, data, optimizer=None, criterion=None):\n",
    "    model.train()\n",
    "\n",
    "    # Initialize optimizer & loss function if not provided\n",
    "    if optimizer is None:\n",
    "        optimizer = torch.optim.Adam(model.parameters(), lr=0.01)\n",
    "    if criterion is None:\n",
    "        criterion = torch.nn.CrossEntropyLoss()\n",
    "\n",
    "    optimizer.zero_grad()\n",
    "    out = model(data['x'], data['graph'])  # Forward pass\n",
    "    \n",
    "    # Compute loss\n",
    "    loss = criterion(out[data['train_mask']], data['y'][data['train_mask']])\n",
    "    \n",
    "    # Backpropagation\n",
    "    loss.backward()\n",
    "    optimizer.step()\n",
    "\n",
    "    # Compute accuracy\n",
    "    pred = out.argmax(dim=1)  # Get predicted class indices\n",
    "    correct = (pred[data['train_mask']] == data['y'][data['train_mask']]).sum().item()\n",
    "    accuracy = correct / data['train_mask'].sum().item()\n",
    "\n",
    "    return loss.item(), accuracy\n",
    "\n",
    "\n",
    "def evaluate(model, data, criterion=None):\n",
    "    model.eval()\n",
    "    if criterion is None:\n",
    "        criterion = torch.nn.CrossEntropyLoss()\n",
    "\n",
    "    with torch.no_grad():\n",
    "        out = model(data['x'], data['graph'])  # Forward pass\n",
    "        loss = criterion(out[data['test_mask']], data['y'][data['test_mask']])\n",
    "\n",
    "        pred = out.argmax(dim=1)\n",
    "        correct = (pred[data['test_mask']] == data['y'][data['test_mask']]).sum().item()\n",
    "        accuracy = correct / data['test_mask'].sum().item()\n",
    "\n",
    "    return loss.item(), accuracy"
   ]
  },
  {
   "cell_type": "code",
   "execution_count": 3,
   "id": "efccef5b",
   "metadata": {},
   "outputs": [
    {
     "name": "stdout",
     "output_type": "stream",
     "text": [
      "Creating graph with 207400 nodes and 1653504 edges.\n"
     ]
    }
   ],
   "source": [
    "%run data.ipynb\n",
    "\n",
    "PATH_TO_IMAGE = \"E:\\MINI_PROJECT\\PAVIA_UNI\\PaviaU.mat\"\n",
    "PATH_TO_LABEL = \"E:\\MINI_PROJECT\\PAVIA_UNI\\PaviaU_gt.mat\"\n",
    "\n",
    "data = DATA(PATH_TO_IMAGE, PATH_TO_LABEL)"
   ]
  },
  {
   "cell_type": "code",
   "execution_count": 7,
   "id": "e19bb3ff",
   "metadata": {},
   "outputs": [],
   "source": [
    "graph_data = data.get_data_for_gcn()\n",
    "\n",
    "# Now, you can use it with your GCN model\n",
    "x = graph_data['x']\n",
    "graph = graph_data['graph']  # Use 'graph' instead of 'edge_index'\n",
    "y = graph_data['y']\n",
    "\n",
    "# Example Model Usage\n",
    "model = MiniGCN(input_dim=x.shape[1], hidden_dim=16, output_dim=y.max().item() + 1)\n",
    "\n",
    "# Example Training\n",
    "optimizer = torch.optim.Adam(model.parameters(), lr=0.01)\n",
    "criterion = torch.nn.CrossEntropyLoss()"
   ]
  },
  {
   "cell_type": "code",
   "execution_count": 8,
   "id": "52b42f84",
   "metadata": {},
   "outputs": [
    {
     "name": "stderr",
     "output_type": "stream",
     "text": [
      "E:\\Anaconda\\Lib\\site-packages\\dhg\\structure\\graphs\\graph.py:633: UserWarning: Sparse CSR tensor support is in beta state. If you miss a functionality in the sparse tensor support, please submit a feature request to https://github.com/pytorch/pytorch/issues. (Triggered internally at C:\\actions-runner\\_work\\pytorch\\pytorch\\pytorch\\aten\\src\\ATen\\SparseCsrTensorImpl.cpp:55.)\n",
      "  self.cache[\"L_GCN\"] = _tmp_g.D_v_neg_1_2.mm(_tmp_g.A).mm(_tmp_g.D_v_neg_1_2).clone().coalesce()\n"
     ]
    },
    {
     "name": "stdout",
     "output_type": "stream",
     "text": [
      "Epoch 1/50 - Train Loss: 302.2103, Train Acc: 0.2302 | Test Loss: 253.4176, Test Acc: 0.0121\n",
      "Epoch 2/50 - Train Loss: 534.7989, Train Acc: 0.1018 | Test Loss: 189.7412, Test Acc: 0.7938\n",
      "Epoch 3/50 - Train Loss: 439.4505, Train Acc: 0.4759 | Test Loss: 162.3442, Test Acc: 0.7938\n",
      "Epoch 4/50 - Train Loss: 252.9700, Train Acc: 0.5935 | Test Loss: 27.4402, Test Acc: 0.7919\n",
      "Epoch 5/50 - Train Loss: 76.7698, Train Acc: 0.6877 | Test Loss: 98.9066, Test Acc: 0.1333\n",
      "Epoch 6/50 - Train Loss: 160.7831, Train Acc: 0.5182 | Test Loss: 2.3026, Test Acc: 0.7938\n",
      "Epoch 7/50 - Train Loss: 63.3123, Train Acc: 0.6479 | Test Loss: 2.3026, Test Acc: 0.7938\n",
      "Epoch 8/50 - Train Loss: 27.7683, Train Acc: 0.7420 | Test Loss: 2.3026, Test Acc: 0.7938\n",
      "Epoch 9/50 - Train Loss: 20.3241, Train Acc: 0.7684 | Test Loss: 2.3026, Test Acc: 0.7938\n",
      "Epoch 10/50 - Train Loss: 18.9836, Train Acc: 0.7807 | Test Loss: 2.3026, Test Acc: 0.7938\n",
      "Epoch 11/50 - Train Loss: 19.2047, Train Acc: 0.7846 | Test Loss: 2.3026, Test Acc: 0.7938\n",
      "Epoch 12/50 - Train Loss: 16.9920, Train Acc: 0.7862 | Test Loss: 2.3026, Test Acc: 0.7938\n",
      "Epoch 13/50 - Train Loss: 13.1746, Train Acc: 0.7877 | Test Loss: 2.3026, Test Acc: 0.7938\n",
      "Epoch 14/50 - Train Loss: 9.2740, Train Acc: 0.7892 | Test Loss: 2.3026, Test Acc: 0.7938\n",
      "Epoch 15/50 - Train Loss: 6.8890, Train Acc: 0.7898 | Test Loss: 2.3026, Test Acc: 0.7938\n",
      "Epoch 16/50 - Train Loss: 4.9317, Train Acc: 0.7903 | Test Loss: 2.3026, Test Acc: 0.7938\n",
      "Epoch 17/50 - Train Loss: 3.7980, Train Acc: 0.7910 | Test Loss: 2.3026, Test Acc: 0.7938\n",
      "Epoch 18/50 - Train Loss: 3.3299, Train Acc: 0.7915 | Test Loss: 2.3026, Test Acc: 0.7938\n",
      "Epoch 19/50 - Train Loss: 2.8980, Train Acc: 0.7916 | Test Loss: 2.3026, Test Acc: 0.7938\n",
      "Epoch 20/50 - Train Loss: 2.6881, Train Acc: 0.7923 | Test Loss: 2.3026, Test Acc: 0.7938\n",
      "Epoch 21/50 - Train Loss: 2.6080, Train Acc: 0.7923 | Test Loss: 2.3026, Test Acc: 0.7938\n",
      "Epoch 22/50 - Train Loss: 2.5265, Train Acc: 0.7926 | Test Loss: 2.3026, Test Acc: 0.7938\n",
      "Epoch 23/50 - Train Loss: 2.5083, Train Acc: 0.7925 | Test Loss: 2.3026, Test Acc: 0.7938\n",
      "Epoch 24/50 - Train Loss: 2.4358, Train Acc: 0.7928 | Test Loss: 2.3026, Test Acc: 0.7938\n",
      "Epoch 25/50 - Train Loss: 2.4035, Train Acc: 0.7930 | Test Loss: 2.3026, Test Acc: 0.7938\n",
      "Epoch 26/50 - Train Loss: 2.4342, Train Acc: 0.7929 | Test Loss: 2.3026, Test Acc: 0.7938\n",
      "Epoch 27/50 - Train Loss: 2.3879, Train Acc: 0.7932 | Test Loss: 2.3026, Test Acc: 0.7938\n",
      "Epoch 28/50 - Train Loss: 2.3589, Train Acc: 0.7932 | Test Loss: 2.3026, Test Acc: 0.7938\n",
      "Epoch 29/50 - Train Loss: 2.3751, Train Acc: 0.7932 | Test Loss: 2.3026, Test Acc: 0.7938\n",
      "Epoch 30/50 - Train Loss: 2.3740, Train Acc: 0.7933 | Test Loss: 2.3026, Test Acc: 0.7938\n",
      "Epoch 31/50 - Train Loss: 2.3584, Train Acc: 0.7933 | Test Loss: 2.3026, Test Acc: 0.7938\n",
      "Epoch 32/50 - Train Loss: 2.3589, Train Acc: 0.7934 | Test Loss: 2.3026, Test Acc: 0.7938\n",
      "Epoch 33/50 - Train Loss: 2.3578, Train Acc: 0.7935 | Test Loss: 2.3026, Test Acc: 0.7938\n",
      "Epoch 34/50 - Train Loss: 2.3676, Train Acc: 0.7934 | Test Loss: 2.3026, Test Acc: 0.7938\n",
      "Epoch 35/50 - Train Loss: 2.3372, Train Acc: 0.7935 | Test Loss: 2.3026, Test Acc: 0.7938\n",
      "Epoch 36/50 - Train Loss: 2.3535, Train Acc: 0.7935 | Test Loss: 2.3026, Test Acc: 0.7938\n",
      "Epoch 37/50 - Train Loss: 2.3404, Train Acc: 0.7935 | Test Loss: 2.3026, Test Acc: 0.7938\n",
      "Epoch 38/50 - Train Loss: 2.3333, Train Acc: 0.7935 | Test Loss: 2.3026, Test Acc: 0.7938\n",
      "Epoch 39/50 - Train Loss: 2.3274, Train Acc: 0.7936 | Test Loss: 2.3026, Test Acc: 0.7938\n",
      "Epoch 40/50 - Train Loss: 2.3366, Train Acc: 0.7935 | Test Loss: 2.3026, Test Acc: 0.7938\n",
      "Epoch 41/50 - Train Loss: 2.3194, Train Acc: 0.7936 | Test Loss: 2.3026, Test Acc: 0.7938\n",
      "Epoch 42/50 - Train Loss: 2.3357, Train Acc: 0.7936 | Test Loss: 2.3026, Test Acc: 0.7938\n",
      "Epoch 43/50 - Train Loss: 2.3310, Train Acc: 0.7935 | Test Loss: 2.3026, Test Acc: 0.7938\n",
      "Epoch 44/50 - Train Loss: 2.3197, Train Acc: 0.7936 | Test Loss: 2.3026, Test Acc: 0.7938\n",
      "Epoch 45/50 - Train Loss: 2.3281, Train Acc: 0.7936 | Test Loss: 2.3026, Test Acc: 0.7938\n",
      "Epoch 46/50 - Train Loss: 2.3230, Train Acc: 0.7936 | Test Loss: 2.3026, Test Acc: 0.7938\n",
      "Epoch 47/50 - Train Loss: 2.3187, Train Acc: 0.7936 | Test Loss: 2.3026, Test Acc: 0.7938\n",
      "Epoch 48/50 - Train Loss: 2.3259, Train Acc: 0.7936 | Test Loss: 2.3026, Test Acc: 0.7938\n",
      "Epoch 49/50 - Train Loss: 2.3225, Train Acc: 0.7936 | Test Loss: 2.3026, Test Acc: 0.7938\n",
      "Epoch 50/50 - Train Loss: 2.3153, Train Acc: 0.7936 | Test Loss: 2.3026, Test Acc: 0.7938\n"
     ]
    }
   ],
   "source": [
    "num_epochs = 50\n",
    "for epoch in range(num_epochs):\n",
    "    train_loss, train_acc = train(model, graph_data, optimizer, criterion)\n",
    "    test_loss, test_acc = evaluate(model, graph_data, criterion)\n",
    "\n",
    "    print(f\"Epoch {epoch+1}/{num_epochs} - \"\n",
    "          f\"Train Loss: {train_loss:.4f}, Train Acc: {train_acc:.4f} | \"\n",
    "          f\"Test Loss: {test_loss:.4f}, Test Acc: {test_acc:.4f}\")"
   ]
  },
  {
   "cell_type": "code",
   "execution_count": null,
   "id": "eadf8f0f",
   "metadata": {},
   "outputs": [],
   "source": []
  },
  {
   "cell_type": "code",
   "execution_count": null,
   "id": "de2ef118",
   "metadata": {},
   "outputs": [],
   "source": []
  }
 ],
 "metadata": {
  "kernelspec": {
   "display_name": "Python 3 (ipykernel)",
   "language": "python",
   "name": "python3"
  },
  "language_info": {
   "codemirror_mode": {
    "name": "ipython",
    "version": 3
   },
   "file_extension": ".py",
   "mimetype": "text/x-python",
   "name": "python",
   "nbconvert_exporter": "python",
   "pygments_lexer": "ipython3",
   "version": "3.11.4"
  }
 },
 "nbformat": 4,
 "nbformat_minor": 5
}
