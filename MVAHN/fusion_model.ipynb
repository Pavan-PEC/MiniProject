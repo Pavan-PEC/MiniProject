{
 "cells": [
  {
   "cell_type": "code",
   "execution_count": 1,
   "id": "28bcebf1",
   "metadata": {},
   "outputs": [
    {
     "name": "stdout",
     "output_type": "stream",
     "text": [
      "WARNING:tensorflow:From E:\\Anaconda\\Lib\\site-packages\\keras\\src\\losses.py:2976: The name tf.losses.sparse_softmax_cross_entropy is deprecated. Please use tf.compat.v1.losses.sparse_softmax_cross_entropy instead.\n",
      "\n",
      "WARNING:tensorflow:From E:\\Anaconda\\Lib\\site-packages\\keras\\src\\backend.py:873: The name tf.get_default_graph is deprecated. Please use tf.compat.v1.get_default_graph instead.\n",
      "\n"
     ]
    }
   ],
   "source": [
    "import torch\n",
    "import torch.nn as nn\n",
    "import torch.nn.functional as F\n",
    "from torch_geometric.nn import EdgePooling, GraphConv, BatchNorm\n",
    "\n",
    "import import_ipynb\n",
    "from vision_transformer import ViT"
   ]
  },
  {
   "cell_type": "code",
   "execution_count": 2,
   "id": "6d7054d3",
   "metadata": {},
   "outputs": [],
   "source": [
    "class FusionModel(nn.Module):\n",
    "    def __init__(self, nfeat, nhid, nclass, depth, image_size, patch_size, heads, dropout):\n",
    "        super().__init__()\n",
    "        \n",
    "        self.gcn = GraphConv(nhid, nhid)\n",
    "        self.vit = ViT(image_size=image_size*5,\n",
    "                       patch_size=patch_size, num_classes=nclass,\n",
    "                       dim=nhid, depth=depth,\n",
    "                       heads=heads, mlp_dim=nhid,\n",
    "                       dropout=dropout, emb_dropout=dropout,\n",
    "                       channels=nfeat\n",
    "                      )\n",
    "        \n",
    "#         self.batch_conv1 = nn.BatchNorm2d(5)\n",
    "#         self.batch_conv2 = nn.BatchNorm2d(5)\n",
    "        \n",
    "#         self.batch1 = BatchNorm(nhid)\n",
    "#         self.batch2 = BatchNorm(nhid)\n",
    "#         self.batch3 = BatchNorm(nhid)\n",
    "        \n",
    "        self.linear_in = nn.Sequential(nn.Linear(103, nhid))\n",
    "        self.linear_out = nn.Sequential(nn.Linear(2*nhid, nclass))\n",
    "        \n",
    "    def forward(self, x, adj, features, slices):\n",
    "        \n",
    "        print(f\"Shape of x before linear in: {x.shape}\")\n",
    "        x = self.linear_in(x.float())\n",
    "        print(f\"Shape of x after linear in: {x.shape}\")\n",
    "        \n",
    "        print(f\"adj shape: {adj.shape}\")\n",
    "        print(f\"features shape: {features.shape}\")\n",
    "        \n",
    "        x = x.relu()\n",
    "        x = F.dropout(x, p=0.2, training=self.training)\n",
    "        \n",
    "        x_gcn = self.gcn(x, adj.long(), features)\n",
    "        print(f\"Shape of x_gcn in : {x_gcn.shape}\")\n",
    "        \n",
    "        x_vit = self.vit(slices.transpose(1, 3).float())\n",
    "        print(f\"Shape of x_vit in: {x_vit.shape}\")\n",
    "        \n",
    "        x = torch.cat([x_gcn, x_vit], dim=1)\n",
    "        print(f\"Shape after concatention: {x.shape}\")\n",
    "        \n",
    "        x = self.linear_out(x)\n",
    "        print(f\"Final output shape: {x.shape}\")\n",
    "        \n",
    "        return x"
   ]
  },
  {
   "cell_type": "code",
   "execution_count": null,
   "id": "c43cb269",
   "metadata": {},
   "outputs": [],
   "source": []
  }
 ],
 "metadata": {
  "kernelspec": {
   "display_name": "Python 3 (ipykernel)",
   "language": "python",
   "name": "python3"
  },
  "language_info": {
   "codemirror_mode": {
    "name": "ipython",
    "version": 3
   },
   "file_extension": ".py",
   "mimetype": "text/x-python",
   "name": "python",
   "nbconvert_exporter": "python",
   "pygments_lexer": "ipython3",
   "version": "3.11.4"
  }
 },
 "nbformat": 4,
 "nbformat_minor": 5
}
