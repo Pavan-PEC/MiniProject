{
 "cells": [
  {
   "cell_type": "code",
   "execution_count": 1,
   "id": "1ed458e9",
   "metadata": {},
   "outputs": [
    {
     "name": "stdout",
     "output_type": "stream",
     "text": [
      "WARNING:tensorflow:From E:\\Anaconda\\Lib\\site-packages\\keras\\src\\losses.py:2976: The name tf.losses.sparse_softmax_cross_entropy is deprecated. Please use tf.compat.v1.losses.sparse_softmax_cross_entropy instead.\n",
      "\n",
      "WARNING:tensorflow:From E:\\Anaconda\\Lib\\site-packages\\keras\\src\\backend.py:873: The name tf.get_default_graph is deprecated. Please use tf.compat.v1.get_default_graph instead.\n",
      "\n"
     ]
    }
   ],
   "source": [
    "import torch\n",
    "import torch.nn as nn\n",
    "import torch.nn.functional as F\n",
    "# import torch_cluster\n",
    "from torch_geometric.nn import GraphConv, EdgePooling, BatchNorm"
   ]
  },
  {
   "cell_type": "code",
   "execution_count": 2,
   "id": "0db72843",
   "metadata": {},
   "outputs": [],
   "source": [
    "class GCN(nn.Module):\n",
    "    def __init__(self, nfeat, nhid, num_classes, dropout=0.):\n",
    "        super().__init__()\n",
    "        \n",
    "        self.gc1 = GraphConv(nhid, nhid)\n",
    "        self.gc2 = GraphConv(nhid, nhid)\n",
    "        \n",
    "        self.dropout = nn.Dropout(dropout=dropout)\n",
    "        \n",
    "        self.conv1 = nn.Conv2d(in_channels=200, out_channels=5, kernel_size=3)\n",
    "        self.conv_linear = nn.Sequential(nn.Linear(45, nhid))\n",
    "        \n",
    "        self.batch1 = nn.BatchNorm(nhid)\n",
    "        self.batch2 = nn.BatchNorm(nhid)\n",
    "        self.batch3 = nn.BatchNorm(nhid)\n",
    "        \n",
    "        self.linear_in = nn.Sequential(nn.Linear(nfeat, nhid))\n",
    "        \n",
    "        self.linear_out = nn.Sequential(nn.Linear(2*nhid, num_classes))\n",
    "        \n",
    "        self.edge_pooling = EdgePooling(nhid)\n",
    "    \n",
    "    def forward(self, x, adj, features):\n",
    "        x = self.linear_in(x.float())\n",
    "        x = x.relu()\n",
    "        \n",
    "        x = self.dropout(x, training=self.training)\n",
    "        \n",
    "        x = self.gc1(x, adj.long(), features)\n",
    "        x = self.batch1(x)\n",
    "        x = x.relu()\n",
    "        \n",
    "        x = self.dropout(x, training=self.training)\n",
    "        \n",
    "        x = self.gc2(x, adj.long(), features)\n",
    "        x = self.batch1(x)\n",
    "        \n",
    "        return x"
   ]
  },
  {
   "cell_type": "code",
   "execution_count": null,
   "id": "b3a7097d",
   "metadata": {},
   "outputs": [],
   "source": []
  }
 ],
 "metadata": {
  "kernelspec": {
   "display_name": "Python 3 (ipykernel)",
   "language": "python",
   "name": "python3"
  },
  "language_info": {
   "codemirror_mode": {
    "name": "ipython",
    "version": 3
   },
   "file_extension": ".py",
   "mimetype": "text/x-python",
   "name": "python",
   "nbconvert_exporter": "python",
   "pygments_lexer": "ipython3",
   "version": "3.11.4"
  }
 },
 "nbformat": 4,
 "nbformat_minor": 5
}
